{
  "nbformat": 4,
  "nbformat_minor": 0,
  "metadata": {
    "colab": {
      "name": "Using graph-tool in Colaboratory",
      "provenance": [],
      "include_colab_link": true
    },
    "kernelspec": {
      "display_name": "Python 3",
      "name": "python3"
    }
  },
  "cells": [
    {
      "cell_type": "markdown",
      "metadata": {
        "id": "view-in-github",
        "colab_type": "text"
      },
      "source": [
        "<a href=\"https://colab.research.google.com/github/count0/colab-gt/blob/master/colab-gt.ipynb\" target=\"_parent\"><img src=\"https://colab.research.google.com/assets/colab-badge.svg\" alt=\"Open In Colab\"/></a>"
      ]
    },
    {
      "cell_type": "markdown",
      "metadata": {
        "id": "kDn_lVxg3Z2G"
      },
      "source": [
        "# Installing graph-tool (https://graph-tool.skewed.de)\n",
        "\n",
        "---\n",
        "\n",
        "\n",
        "To import a library that's not in Colaboratory by default, you can use `!apt-get install`.\n",
        "\n",
        "But since graph-tool is not in the official repository, we need to add it to the list."
      ]
    },
    {
      "cell_type": "code",
      "metadata": {
        "id": "GQ18Kd5F3uKe"
      },
      "source": [
        "!echo \"deb http://downloads.skewed.de/apt focal main\" >> /etc/apt/sources.list\n",
        "!apt-key adv --keyserver keyserver.ubuntu.com --recv-key 612DEFB798507F25\n",
        "!apt-get update\n",
        "!apt-get install python3-graph-tool python3-matplotlib python3-cairo"
      ],
      "execution_count": null,
      "outputs": []
    },
    {
      "cell_type": "markdown",
      "metadata": {
        "id": "iDu3Slhq2zyh"
      },
      "source": [
        "# Now we can use graph-tool as any other Python module\n",
        "\n"
      ]
    },
    {
      "cell_type": "code",
      "metadata": {
        "id": "6km1lWMF2kAm"
      },
      "source": [
        "from graph_tool.all import *\n",
        "\n",
        "g = collection.data[\"celegansneural\"]\n",
        "state = minimize_nested_blockmodel_dl(g)"
      ],
      "execution_count": 3,
      "outputs": []
    },
    {
      "cell_type": "markdown",
      "metadata": {
        "id": "apoRbfWsRZ7S"
      },
      "source": [
        "# Inline drawing works too!"
      ]
    },
    {
      "cell_type": "code",
      "metadata": {
        "id": "d_j7nNbKRmhx"
      },
      "source": [
        "state.draw()"
      ],
      "execution_count": null,
      "outputs": []
    }
  ]
}