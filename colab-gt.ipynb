{
  "nbformat": 4,
  "nbformat_minor": 0,
  "metadata": {
    "colab": {
      "name": "Using graph-tool in Colaboratory",
      "provenance": [],
      "include_colab_link": true
    },
    "kernelspec": {
      "display_name": "Python 3",
      "name": "python3"
    }
  },
  "cells": [
    {
      "cell_type": "markdown",
      "metadata": {
        "id": "view-in-github",
        "colab_type": "text"
      },
      "source": [
        "<a href=\"https://colab.research.google.com/github/count0/colab-gt/blob/master/colab-gt.ipynb\" target=\"_parent\"><img src=\"https://colab.research.google.com/assets/colab-badge.svg\" alt=\"Open In Colab\"/></a>"
      ]
    },
    {
      "cell_type": "markdown",
      "metadata": {
        "id": "kDn_lVxg3Z2G"
      },
      "source": [
        "# Installing graph-tool (https://graph-tool.skewed.de)\n",
        "\n",
        "---\n",
        "\n",
        "\n",
        "To import a library that's not in Colaboratory by default, we can use [condacolab](https://github.com/conda-incubator/condacolab) to install packages from conda."
      ]
    },
    {
      "cell_type": "code",
      "source": [
        "!pip install -q condacolab\n",
        "import condacolab\n",
        "condacolab.install()"
      ],
      "metadata": {
        "id": "jmRYQDL161hB"
      },
      "execution_count": null,
      "outputs": []
    },
    {
      "cell_type": "markdown",
      "source": [
        "Now we can install conda packages, and we do so for graph-tool."
      ],
      "metadata": {
        "id": "rnC3Mzts8KMT"
      }
    },
    {
      "cell_type": "code",
      "source": [
        "!mamba install -q graph-tool"
      ],
      "metadata": {
        "id": "_sJaZ7uJ7NnW"
      },
      "execution_count": null,
      "outputs": []
    },
    {
      "cell_type": "markdown",
      "metadata": {
        "id": "iDu3Slhq2zyh"
      },
      "source": [
        "# Now we can use graph-tool as any other Python module\n",
        "\n"
      ]
    },
    {
      "cell_type": "code",
      "metadata": {
        "id": "6km1lWMF2kAm"
      },
      "source": [
        "from graph_tool.all import *\n",
        "\n",
        "g = collection.data[\"celegansneural\"]\n",
        "state = minimize_nested_blockmodel_dl(g)"
      ],
      "execution_count": null,
      "outputs": []
    },
    {
      "cell_type": "markdown",
      "metadata": {
        "id": "apoRbfWsRZ7S"
      },
      "source": [
        "# Inline drawing works too!"
      ]
    },
    {
      "cell_type": "code",
      "metadata": {
        "id": "d_j7nNbKRmhx"
      },
      "source": [
        "state.draw()"
      ],
      "execution_count": null,
      "outputs": []
    }
  ]
}