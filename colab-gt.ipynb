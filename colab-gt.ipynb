{
  "nbformat": 4,
  "nbformat_minor": 0,
  "metadata": {
    "colab": {
      "name": "Using graph-tool in Colaboratory",
      "provenance": [],
      "include_colab_link": true
    },
    "kernelspec": {
      "display_name": "Python 3",
      "name": "python3"
    }
  },
  "cells": [
    {
      "cell_type": "markdown",
      "metadata": {
        "id": "view-in-github",
        "colab_type": "text"
      },
      "source": [
        "<a href=\"https://colab.research.google.com/github/count0/colab-gt/blob/master/colab-gt.ipynb\" target=\"_parent\"><img src=\"https://colab.research.google.com/assets/colab-badge.svg\" alt=\"Open In Colab\"/></a>"
      ]
    },
    {
      "cell_type": "markdown",
      "metadata": {
        "id": "kDn_lVxg3Z2G"
      },
      "source": [
        "# Installing graph-tool (https://graph-tool.skewed.de)\n",
        "\n",
        "---\n",
        "\n",
        "\n",
        "To import a library that's not in Colaboratory by default, you can use `!apt-get install`.\n",
        "\n",
        "But since graph-tool is not in the official repository, we need to add it to the list."
      ]
    },
    {
      "cell_type": "code",
      "source": [
        "!apt-key adv --keyserver keyserver.ubuntu.com --recv-key 612DEFB798507F25\n",
        "!add-apt-repository -y \"deb http://downloads.skewed.de/apt $(lsb_release -s -c) main\"\n",
        "!apt-get update\n",
        "!apt-get install python3-graph-tool python3-matplotlib python3-cairo"
      ],
      "metadata": {
        "id": "ccAj89hUOqoU"
      },
      "execution_count": null,
      "outputs": []
    },
    {
      "cell_type": "code",
      "source": [
        "# Colab uses a Python install that deviates from the system's! Bad colab! We need some workarounds.\n",
        "!apt purge python3-cairo\n",
        "!apt install libcairo2-dev pkg-config python3-dev\n",
        "!pip install --force-reinstall pycairo\n",
        "!pip install zstandard"
      ],
      "metadata": {
        "id": "AmowQmUOaNgI"
      },
      "execution_count": null,
      "outputs": []
    },
    {
      "cell_type": "markdown",
      "metadata": {
        "id": "iDu3Slhq2zyh"
      },
      "source": [
        "# Now we can use graph-tool as any other Python module\n",
        "\n"
      ]
    },
    {
      "cell_type": "code",
      "metadata": {
        "id": "6km1lWMF2kAm"
      },
      "source": [
        "from graph_tool.all import *\n",
        "\n",
        "g = collection.data[\"celegansneural\"]\n",
        "state = minimize_nested_blockmodel_dl(g)"
      ],
      "execution_count": null,
      "outputs": []
    },
    {
      "cell_type": "markdown",
      "metadata": {
        "id": "apoRbfWsRZ7S"
      },
      "source": [
        "# Inline drawing works too!"
      ]
    },
    {
      "cell_type": "code",
      "metadata": {
        "id": "d_j7nNbKRmhx"
      },
      "source": [
        "state.draw()"
      ],
      "execution_count": null,
      "outputs": []
    }
  ]
}